{
 "cells": [
  {
   "cell_type": "markdown",
   "id": "cd5dd584",
   "metadata": {},
   "source": [
    "Setup"
   ]
  },
  {
   "cell_type": "code",
   "execution_count": 10,
   "id": "ad6191ba-cf96-40b8-aed4-5bc06c7ed448",
   "metadata": {},
   "outputs": [
    {
     "data": {
      "text/html": [
       "<div>\n",
       "<style scoped>\n",
       "    .dataframe tbody tr th:only-of-type {\n",
       "        vertical-align: middle;\n",
       "    }\n",
       "\n",
       "    .dataframe tbody tr th {\n",
       "        vertical-align: top;\n",
       "    }\n",
       "\n",
       "    .dataframe thead th {\n",
       "        text-align: right;\n",
       "    }\n",
       "</style>\n",
       "<table border=\"1\" class=\"dataframe\">\n",
       "  <thead>\n",
       "    <tr style=\"text-align: right;\">\n",
       "      <th></th>\n",
       "      <th>Title</th>\n",
       "      <th>Book_category</th>\n",
       "      <th>Star_rating</th>\n",
       "      <th>Price</th>\n",
       "      <th>Stock</th>\n",
       "      <th>Quantity</th>\n",
       "    </tr>\n",
       "  </thead>\n",
       "  <tbody>\n",
       "    <tr>\n",
       "      <th>0</th>\n",
       "      <td>A Light in the Attic</td>\n",
       "      <td>Poetry</td>\n",
       "      <td>Three</td>\n",
       "      <td>51.77</td>\n",
       "      <td>In stock</td>\n",
       "      <td>22</td>\n",
       "    </tr>\n",
       "    <tr>\n",
       "      <th>1</th>\n",
       "      <td>Tipping the Velvet</td>\n",
       "      <td>Historical Fiction</td>\n",
       "      <td>One</td>\n",
       "      <td>53.74</td>\n",
       "      <td>In stock</td>\n",
       "      <td>20</td>\n",
       "    </tr>\n",
       "    <tr>\n",
       "      <th>2</th>\n",
       "      <td>Soumission</td>\n",
       "      <td>Fiction</td>\n",
       "      <td>One</td>\n",
       "      <td>50.10</td>\n",
       "      <td>In stock</td>\n",
       "      <td>20</td>\n",
       "    </tr>\n",
       "    <tr>\n",
       "      <th>3</th>\n",
       "      <td>Sharp Objects</td>\n",
       "      <td>Mystery</td>\n",
       "      <td>Four</td>\n",
       "      <td>47.82</td>\n",
       "      <td>In stock</td>\n",
       "      <td>20</td>\n",
       "    </tr>\n",
       "    <tr>\n",
       "      <th>4</th>\n",
       "      <td>Sapiens: A Brief History of Humankind</td>\n",
       "      <td>History</td>\n",
       "      <td>Five</td>\n",
       "      <td>54.23</td>\n",
       "      <td>In stock</td>\n",
       "      <td>20</td>\n",
       "    </tr>\n",
       "  </tbody>\n",
       "</table>\n",
       "</div>"
      ],
      "text/plain": [
       "                                   Title       Book_category Star_rating  \\\n",
       "0                   A Light in the Attic              Poetry       Three   \n",
       "1                     Tipping the Velvet  Historical Fiction         One   \n",
       "2                             Soumission             Fiction         One   \n",
       "3                          Sharp Objects             Mystery        Four   \n",
       "4  Sapiens: A Brief History of Humankind             History        Five   \n",
       "\n",
       "   Price     Stock  Quantity  \n",
       "0  51.77  In stock        22  \n",
       "1  53.74  In stock        20  \n",
       "2  50.10  In stock        20  \n",
       "3  47.82  In stock        20  \n",
       "4  54.23  In stock        20  "
      ]
     },
     "execution_count": 10,
     "metadata": {},
     "output_type": "execute_result"
    }
   ],
   "source": [
    "import pandas as pd\n",
    "\n",
    "books = pd.read_csv(\"books.csv\")\n",
    "books.head()\n"
   ]
  },
  {
   "cell_type": "markdown",
   "id": "752a5545",
   "metadata": {},
   "source": [
    "What is \"default\" category? Could potentially be a book that belongs to an indederminate genre, or a substitute for NULL, regardless, for this project books categorized as \"default\" will be disregarded when determining the most popular book category if necessary."
   ]
  },
  {
   "cell_type": "markdown",
   "id": "0250455a",
   "metadata": {},
   "source": [
    "Info"
   ]
  },
  {
   "cell_type": "code",
   "execution_count": 16,
   "id": "e3126bff",
   "metadata": {},
   "outputs": [
    {
     "name": "stdout",
     "output_type": "stream",
     "text": [
      "<class 'pandas.core.frame.DataFrame'>\n",
      "RangeIndex: 1000 entries, 0 to 999\n",
      "Data columns (total 6 columns):\n",
      " #   Column         Non-Null Count  Dtype  \n",
      "---  ------         --------------  -----  \n",
      " 0   Title          1000 non-null   object \n",
      " 1   Book_category  1000 non-null   object \n",
      " 2   Star_rating    1000 non-null   object \n",
      " 3   Price          1000 non-null   float64\n",
      " 4   Stock          1000 non-null   object \n",
      " 5   Quantity       1000 non-null   int64  \n",
      "dtypes: float64(1), int64(1), object(4)\n",
      "memory usage: 47.0+ KB\n"
     ]
    }
   ],
   "source": [
    "books.info()"
   ]
  },
  {
   "cell_type": "markdown",
   "id": "f4c7b71d",
   "metadata": {},
   "source": [
    "Project Goals:\n",
    "   \n",
    "    1. Determine the genre with the most 5 star rated books.\n",
    "    2. I personally enjoy science fiction novels, So we will determine the books within the Science Fiction genre that are the best value for money (Highest star rating for the lowest price).\n",
    "    "
   ]
  },
  {
   "cell_type": "code",
   "execution_count": 27,
   "id": "3e3d98bc",
   "metadata": {},
   "outputs": [
    {
     "data": {
      "text/plain": [
       "Book_category\n",
       "Default               29\n",
       "Nonfiction            20\n",
       "Fiction               17\n",
       "Young Adult           15\n",
       "Sequential Art        12\n",
       "Fantasy               10\n",
       "Add a comment          8\n",
       "Historical Fiction     8\n",
       "Food and Drink         7\n",
       "Poetry                 6\n",
       "Mystery                5\n",
       "Womens Fiction         4\n",
       "Humor                  4\n",
       "History                4\n",
       "Romance                4\n",
       "Music                  4\n",
       "Autobiography          3\n",
       "Spirituality           3\n",
       "Business               3\n",
       "Christian Fiction      3\n",
       "Childrens              3\n",
       "Health                 2\n",
       "Horror                 2\n",
       "Science                2\n",
       "Thriller               2\n",
       "Philosophy             2\n",
       "New Adult              2\n",
       "Sports and Games       1\n",
       "Self Help              1\n",
       "Art                    1\n",
       "Adult Fiction          1\n",
       "Historical             1\n",
       "Novels                 1\n",
       "Christian              1\n",
       "Religion               1\n",
       "Contemporary           1\n",
       "Erotica                1\n",
       "Science Fiction        1\n",
       "Travel                 1\n",
       "Name: count, dtype: int64"
      ]
     },
     "execution_count": 27,
     "metadata": {},
     "output_type": "execute_result"
    }
   ],
   "source": [
    "# isolate the 5 Star rated books\n",
    "five_star_books = books[books.Star_rating == \"Five\"]\n",
    "# group by genre where star rating is 5 and display the counts in descending order\n",
    "five_star_books.Book_category.value_counts(ascending=False)"
   ]
  },
  {
   "cell_type": "code",
   "execution_count": 39,
   "id": "9c893927",
   "metadata": {},
   "outputs": [
    {
     "data": {
      "text/html": [
       "<div>\n",
       "<style scoped>\n",
       "    .dataframe tbody tr th:only-of-type {\n",
       "        vertical-align: middle;\n",
       "    }\n",
       "\n",
       "    .dataframe tbody tr th {\n",
       "        vertical-align: top;\n",
       "    }\n",
       "\n",
       "    .dataframe thead th {\n",
       "        text-align: right;\n",
       "    }\n",
       "</style>\n",
       "<table border=\"1\" class=\"dataframe\">\n",
       "  <thead>\n",
       "    <tr style=\"text-align: right;\">\n",
       "      <th></th>\n",
       "      <th>Title</th>\n",
       "      <th>Book_category</th>\n",
       "      <th>Star_rating</th>\n",
       "      <th>Price</th>\n",
       "      <th>Stock</th>\n",
       "      <th>Quantity</th>\n",
       "    </tr>\n",
       "  </thead>\n",
       "  <tbody>\n",
       "    <tr>\n",
       "      <th>791</th>\n",
       "      <td>Ready Player One</td>\n",
       "      <td>Science Fiction</td>\n",
       "      <td>Four</td>\n",
       "      <td>19.07</td>\n",
       "      <td>In stock</td>\n",
       "      <td>3</td>\n",
       "    </tr>\n",
       "    <tr>\n",
       "      <th>413</th>\n",
       "      <td>Arena</td>\n",
       "      <td>Science Fiction</td>\n",
       "      <td>Four</td>\n",
       "      <td>21.36</td>\n",
       "      <td>In stock</td>\n",
       "      <td>11</td>\n",
       "    </tr>\n",
       "    <tr>\n",
       "      <th>977</th>\n",
       "      <td>Having the Barbarian's Baby (Ice Planet Barbar...</td>\n",
       "      <td>Science Fiction</td>\n",
       "      <td>Four</td>\n",
       "      <td>34.96</td>\n",
       "      <td>In stock</td>\n",
       "      <td>1</td>\n",
       "    </tr>\n",
       "    <tr>\n",
       "      <th>129</th>\n",
       "      <td>William Shakespeare's Star Wars: Verily, A New...</td>\n",
       "      <td>Science Fiction</td>\n",
       "      <td>Four</td>\n",
       "      <td>43.30</td>\n",
       "      <td>In stock</td>\n",
       "      <td>15</td>\n",
       "    </tr>\n",
       "  </tbody>\n",
       "</table>\n",
       "</div>"
      ],
      "text/plain": [
       "                                                 Title    Book_category  \\\n",
       "791                                   Ready Player One  Science Fiction   \n",
       "413                                              Arena  Science Fiction   \n",
       "977  Having the Barbarian's Baby (Ice Planet Barbar...  Science Fiction   \n",
       "129  William Shakespeare's Star Wars: Verily, A New...  Science Fiction   \n",
       "\n",
       "    Star_rating  Price     Stock  Quantity  \n",
       "791        Four  19.07  In stock         3  \n",
       "413        Four  21.36  In stock        11  \n",
       "977        Four  34.96  In stock         1  \n",
       "129        Four  43.30  In stock        15  "
      ]
     },
     "execution_count": 39,
     "metadata": {},
     "output_type": "execute_result"
    }
   ],
   "source": [
    "# Get all science fiction books\n",
    "science_fiction = books[books.Book_category == \"Science Fiction\"]\n",
    "# There is only 1 science fiction book rated 5 stars according to the previous result, \n",
    "# we will instead look for 4 star books that are best value for money.\n",
    "four_star_scifi = science_fiction[science_fiction.Star_rating==\"Four\"]\n",
    "four_star_scifi = four_star_scifi.sort_values(by=\"Price\")\n",
    "four_star_scifi"
   ]
  },
  {
   "cell_type": "markdown",
   "id": "cc3a0c7e",
   "metadata": {},
   "source": [
    "In conclusion, It can be determined from this dataset provided, the genre with the most 5 star rated books is Non Fiction, followed closely by Fiction. These are two very broad genres so it is not a surprise that they are the most popular by sheer numbers alone. \n",
    "\n",
    "The best value for money book in the Science Fiction genre goes to Ready Player One. While the selection is small for this genre in the dataset, it is still a good deal, and is significantly less than the average cost of all books in the dataset (As seen below)."
   ]
  },
  {
   "cell_type": "code",
   "execution_count": 40,
   "id": "1bd2ba7f",
   "metadata": {},
   "outputs": [
    {
     "data": {
      "text/plain": [
       "35.07035"
      ]
     },
     "execution_count": 40,
     "metadata": {},
     "output_type": "execute_result"
    }
   ],
   "source": [
    "books.Price.mean()"
   ]
  }
 ],
 "metadata": {
  "kernelspec": {
   "display_name": "Python 3 (ipykernel)",
   "language": "python",
   "name": "python3"
  },
  "language_info": {
   "codemirror_mode": {
    "name": "ipython",
    "version": 3
   },
   "file_extension": ".py",
   "mimetype": "text/x-python",
   "name": "python",
   "nbconvert_exporter": "python",
   "pygments_lexer": "ipython3",
   "version": "3.12.1"
  }
 },
 "nbformat": 4,
 "nbformat_minor": 5
}
